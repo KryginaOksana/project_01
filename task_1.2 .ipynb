{
  "nbformat": 4,
  "nbformat_minor": 0,
  "metadata": {
    "colab": {
      "provenance": []
    },
    "kernelspec": {
      "name": "python3",
      "display_name": "Python 3"
    },
    "language_info": {
      "name": "python"
    }
  },
  "cells": [
    {
      "cell_type": "code",
      "execution_count": null,
      "metadata": {
        "colab": {
          "base_uri": "https://localhost:8080/"
        },
        "id": "PD5gCsDLggBA",
        "outputId": "56e6f660-dbf8-4b53-e0e5-7974ed83813f"
      },
      "outputs": [
        {
          "output_type": "stream",
          "name": "stdout",
          "text": [
            "Три песни звучат 9.01 минут \n",
            "Три песни звучат 10.45 минут.\n"
          ]
        }
      ],
      "source": [
        "\n",
        "#Задача 1.2\n",
        "\n",
        "#Пункт A.\n",
        "# Приведем плейлист песен в виде списка списков\n",
        "# Список my_favorite_songs содержит список названий и длительности каждого трека\n",
        "# Выведите общее время звучания трех случайных песен в формате\n",
        "# Три песни звучат ХХХ минут\n",
        "\n",
        "my_favorite_songs = [\n",
        "    ['Waste a Moment', 3.03],\n",
        "    ['New Salvation', 4.02],\n",
        "    ['Staying\\' Alive', 3.40],\n",
        "    ['Out of Touch', 3.03],\n",
        "    ['A Sorta Fairytale', 5.28],\n",
        "    ['Easy', 4.15],\n",
        "    ['Beautiful Day', 4.04],\n",
        "    ['Nowhere to Run', 2.58],\n",
        "    ['In This World', 4.02],\n",
        "]\n",
        "import random, datetime\n",
        "a = random.randint(0,8)\n",
        "b = random.randint(0,8)\n",
        "c = random.randint(0,8)\n",
        "time_sum_A = (my_favorite_songs[a][1]) + (my_favorite_songs[b][1]) + (my_favorite_songs[c][1])\n",
        "print(f'Три песни звучат {time_sum_A} минут ')\n",
        "\n",
        "# Пункт B. \n",
        "# Есть словарь песен \n",
        "# Распечатайте общее время звучания трех случайных песен\n",
        "# Вывод: Три песни звучат ХХХ минут.\n",
        "\n",
        "\n",
        "my_favorite_songs_dict = {\n",
        "    'Waste a Moment': 3.03,\n",
        "    'New Salvation': 4.02,\n",
        "    'Staying\\' Alive': 3.40,\n",
        "    'Out of Touch': 3.03,\n",
        "    'A Sorta Fairytale': 5.28,\n",
        "    'Easy': 4.15,\n",
        "    'Beautiful Day': 4.04,\n",
        "    'Nowhere to Run': 2.58,\n",
        "    'In This World': 4.02,\n",
        "}\n",
        "\n",
        "import random\n",
        "key_list = list(my_favorite_songs_dict.keys()) # преобразование ключей в список\n",
        "key1, key2, key3 = random.sample(key_list, 3) # выбор из списки 3-х произвольных значений\n",
        "time_sum_B = my_favorite_songs_dict[key1] + my_favorite_songs_dict[key2] + my_favorite_songs_dict[key3] #  по ключу достаем время в словаре и суммируем с другими  \n",
        "#print(key1, ',',  key2, ',', key3)\n",
        "print(f'Три песни звучат {time_sum_B} минут.')\n",
        "\n",
        "# Пункт C.\n",
        "# Сгенерируйте случайные песни с помощью модуля random\n",
        "# import random\n",
        "# Дополнительно \n",
        "# Пункт D.\n",
        "# Переведите минуты и секунды в формат времени. Используйте модуль datetime "
      ]
    }
  ]
}
