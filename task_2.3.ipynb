{
  "nbformat": 4,
  "nbformat_minor": 0,
  "metadata": {
    "colab": {
      "provenance": []
    },
    "kernelspec": {
      "name": "python3",
      "display_name": "Python 3"
    },
    "language_info": {
      "name": "python"
    }
  },
  "cells": [
    {
      "cell_type": "code",
      "execution_count": 3,
      "metadata": {
        "id": "ijGIEynB8bBd",
        "colab": {
          "base_uri": "https://localhost:8080/"
        },
        "outputId": "cc743b2b-2a29-49fa-f7b2-edc87b518d44"
      },
      "outputs": [
        {
          "output_type": "stream",
          "name": "stdout",
          "text": [
            "Введите число от 0 до 9   10\n",
            "вы ввели не правильное значение, введите целое число от 0 до 9\n"
          ]
        }
      ],
      "source": [
        "# Задача 2.3.\n",
        "\n",
        "# Напишите функцию, которая принимает цифры от 0 до 9 и возвращает значение прописью.\n",
        "# Например,\n",
        "# switch_it_up(1) -> 'One'\n",
        "# switch_it_up(3) -> 'Three'\n",
        "# switch_it_up(10000) -> None\n",
        "# Использовать условный оператор if-elif-else нельзя!\n",
        "\n",
        "def switch_it_up(number):\n",
        "    _lst = ['Zero', 'One', 'Two', 'Tree', 'Four', 'Five', 'Six', 'Seven', 'Eight', 'Nine']\n",
        "    return _lst[number]\n",
        "\n",
        "try:\n",
        "    _a = int(input('Введите число от 0 до 9   '))\n",
        "    print(switch_it_up(_a))\n",
        "except:\n",
        "    print('вы ввели неправильное значение, введите целое число от 0 до 9')\n"
      ]
    }
  ]
}
