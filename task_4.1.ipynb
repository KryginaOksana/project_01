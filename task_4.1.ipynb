{
  "nbformat": 4,
  "nbformat_minor": 0,
  "metadata": {
    "colab": {
      "provenance": []
    },
    "kernelspec": {
      "name": "python3",
      "display_name": "Python 3"
    },
    "language_info": {
      "name": "python"
    }
  },
  "cells": [
    {
      "cell_type": "code",
      "source": [
        "# Задача 4.1.\n",
        "# Домашнее задание на SQL\n",
        "\n",
        "# В базе данных teacher создайте таблицу Students\n",
        "\n",
        "# Структура таблицы: Student_Id - Integer, Student_Name - Text, School_Id - Integer (Primary key)\n",
        "\n",
        "# Наполните таблицу следующими данными:\n",
        "\n",
        "# 201, Иван, 1\n",
        "# 202, Петр, 2\n",
        "# 203, Анастасия, 3\n",
        "# 204, Игорь, 4\n",
        "\n",
        "# Напишите программу, с помощью которой по ID студента можно получать информацию о школе и студенте.\n",
        "\n",
        "# Формат вывода:\n",
        "\n",
        "# ID Студента:\n",
        "# Имя студента:\n",
        "# ID школы:\n",
        "# Название школ\n",
        "\n",
        "\n",
        "\n",
        "import sqlite3\n",
        "\n",
        "def get_connection():\n",
        "    connection = sqlite3.connect('teachers.db')\n",
        "    return connection\n",
        "\n",
        "def close_connection(connection):\n",
        "    if connection:\n",
        "        connection.close()\n",
        "\n",
        "#Cоздание таблицы Students\n",
        "\n",
        "#connection = get_connection()\n",
        "#cursor = connection.cursor()\n",
        "#query = \"\"\"CREATE TABLE Students (\n",
        "#Student_Id INTEREG,\n",
        "#Student_Name TEXT,\n",
        "#School_Id INTEREG NOT NULL PRIMARY KEY);\"\"\"\n",
        "#cursor.execute(query)\n",
        "#connection.commit()\n",
        "#connection.close()\n",
        "\n",
        "#Наполнение таблицы Students\n",
        "\n",
        "#connection = get_connection()\n",
        "#cursor = connection.cursor()\n",
        "#query = \"\"\"\n",
        "#INSERT INTO Students (Student_Id, Student_Name, School_Id)\n",
        "#VALUES\n",
        "#(\"201\", \"Иван\", 1),\n",
        "#(\"202\", \"Петр\", 2),\n",
        "#(\"203\", \"Анастасия\", 3),\n",
        "#(\"204\", \"Игорь\", 4);\"\"\"\n",
        "#cursor.execute(query)\n",
        "#connection.commit()\n",
        "#close_connection(connection)\n",
        "\n",
        "# Напишите программу, с помощью которой по ID студента можно получать информацию о школе и студенте.\n",
        "\n",
        "def get_students_info(_studen_id):\n",
        "    try:\n",
        "        connection = get_connection()\n",
        "        cursor = connection.cursor()\n",
        "        select_query = \"\"\" SELECT Students.Student_Id, Students.Student_Name, Students.School_Id, School.School_Name\n",
        "                           FROM Students\n",
        "                           JOIN School ON Students.School_Id = School.School_Id\n",
        "                           WHERE Student_Id = ? \"\"\"\n",
        "        cursor.execute(select_query, (_studen_id,))\n",
        "        records = cursor.fetchall()\n",
        "        print('Данные по студенту с Id: ', _studen_id)\n",
        "        for row in records:\n",
        "            print('Id студента: ', row[0])\n",
        "            print('Имя студента: ', row[1])\n",
        "            print('Id школы: ', row[2])\n",
        "            print('Название школы: ', row[3], \"\\n\")\n",
        "        close_connection(connection)\n",
        "    except (Exception, sqlite3.Error) as error:\n",
        "        print(\"Ошибка в получении данных: \", error)\n",
        "\n",
        "id = int(input('Введи Id студента: '))\n",
        "get_students_info(id)"
      ],
      "metadata": {
        "colab": {
          "base_uri": "https://localhost:8080/"
        },
        "id": "xNDk12IcjW7I",
        "outputId": "83995ed8-33b8-4908-bbf3-fd05f991fcde"
      },
      "execution_count": 15,
      "outputs": [
        {
          "output_type": "stream",
          "name": "stdout",
          "text": [
            "Введи Id студента: 203\n",
            "Данные по студенту с Id:  203\n",
            "Id студента:  203\n",
            "Имя студента:  Анастасия\n",
            "Id школы:  3\n",
            "Название школы:  Спектр \n",
            "\n"
          ]
        }
      ]
    }
  ]
}