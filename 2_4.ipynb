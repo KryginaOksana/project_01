{
  "nbformat": 4,
  "nbformat_minor": 0,
  "metadata": {
    "colab": {
      "provenance": []
    },
    "kernelspec": {
      "name": "python3",
      "display_name": "Python 3"
    },
    "language_info": {
      "name": "python"
    }
  },
  "cells": [
    {
      "cell_type": "code",
      "execution_count": null,
      "metadata": {
        "id": "TfFBiSaQ5Eo8",
        "colab": {
          "base_uri": "https://localhost:8080/"
        },
        "outputId": "b4f7f952-7f8d-4cee-908c-75ae700711f6"
      },
      "outputs": [
        {
          "output_type": "stream",
          "name": "stdout",
          "text": [
            "Введите строку  hlh!!!\n",
            "hlh   \n",
            "hlh!!\n"
          ]
        }
      ],
      "source": [
        "\n",
        "# Задача 2.4.\n",
        "\n",
        "# Пункт A.\n",
        "# Напишите функцию, которая удаляет все восклицательные знаки из заданной строк.\n",
        "\n",
        "\n",
        "name = \"Hi! Hello!\"\n",
        "\n",
        "def remove_exclamation_marks(s):\n",
        "    b = s.replace('!',\" \")\n",
        "    return b\n",
        "\n",
        "remove_exclamation_marks(s)\n",
        "\n",
        "\n",
        "# Пункт B.\n",
        "# Удалите восклицательный знак из конца строки. \n",
        "\n",
        "def remove_last_em(s):\n",
        "    if s[-1] == '!':\n",
        "        bc = s[:-1]\n",
        "    else:\n",
        "        bc = s\n",
        "    return bc\n",
        "\n",
        "a = input('Введите строку  ')\n",
        "print(remove_exclamation_marks(a))\n",
        "print(remove_last_em(a))\n",
        "\n",
        "\n",
        "# Пункт С.\n",
        "# Удалите слова из предложения, если они содержат ровно один восклицательный знак.\n",
        "# Слова разделены одним пробелом.\n",
        "\n",
        "# Решение пункта C.\n",
        "\n",
        "def remove_word_with_one_em(s):\n",
        "    return ' '.join([w for w in s.split(' ') if w.count('!')!=1])\n",
        "\n",
        "\n",
        "\n",
        "\n",
        "\n",
        "  \n",
        "\n",
        "   \n",
        "\n",
        "     \n",
        "    "
      ]
    }
  ]
}