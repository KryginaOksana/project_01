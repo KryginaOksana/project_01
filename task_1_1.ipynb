{
  "nbformat": 4,
  "nbformat_minor": 0,
  "metadata": {
    "colab": {
      "provenance": []
    },
    "kernelspec": {
      "name": "python3",
      "display_name": "Python 3"
    },
    "language_info": {
      "name": "python"
    }
  },
  "cells": [
    {
      "cell_type": "code",
      "execution_count": null,
      "metadata": {
        "colab": {
          "base_uri": "https://localhost:8080/"
        },
        "id": "-7iSSlFe7ctq",
        "outputId": "9555bba2-16ce-42c2-e22a-cf2cdceb1942"
      },
      "outputs": [
        {
          "output_type": "stream",
          "name": "stdout",
          "text": [
            "Waste a Moment New Salvation Staying' Alive Start Me Up\n"
          ]
        }
      ],
      "source": [
        "my_favorite_songs = 'Waste a Moment, Staying\\' Alive, A Sorta Fairytale, Start Me Up, New Salvation'\n",
        "len(my_favorite_songs)\n",
        "print (my_favorite_songs[:14] + \" \" + \n",
        "my_favorite_songs[-13:] + \" \" + \n",
        "my_favorite_songs[16:30] + \" \" +\n",
        "my_favorite_songs[-26:-15])"
      ]
    }
  ]
}