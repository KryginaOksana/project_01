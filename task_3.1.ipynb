{
  "nbformat": 4,
  "nbformat_minor": 0,
  "metadata": {
    "colab": {
      "provenance": []
    },
    "kernelspec": {
      "name": "python3",
      "display_name": "Python 3"
    },
    "language_info": {
      "name": "python"
    }
  },
  "cells": [
    {
      "cell_type": "code",
      "execution_count": 5,
      "metadata": {
        "colab": {
          "base_uri": "https://localhost:8080/"
        },
        "id": "9521tJj9S40u",
        "outputId": "75264447-90e0-452d-c553-46efe0ee0efb"
      },
      "outputs": [
        {
          "output_type": "stream",
          "name": "stdout",
          "text": [
            "[[1, 1, 1, 1, 1, 1, 1, 1, 1, 1], [1, 1, 1, 1, 1, 1, 1, 1, 1, 1], [1, 1, 1, 1, 1, 1, 1, 1, 1, 1], [1, 1, 1, 1, 1, 1, 1, 1, 1, 1], [1, 1, 1, 1, 1, 1, 1, 1, 1, 1], [1, 1, 1, 1, 1, 1, 1, 1, 1, 1], [1, 1, 1, 1, 1, 1, 1, 1, 1, 1], [1, 1, 1, 1, 1, 1, 1, 1, 1, 1], [1, 1, 1, 1, 1, 1, 1, 1, 1, 1], [1, 1, 1, 1, 1, 1, 1, 1, 1, 1]]\n"
          ]
        }
      ],
      "source": [
        "class Matrix:\n",
        "     def __init__(self,columns,rows):\n",
        "          self._matrix = [[None for j in range(columns)]for i in range(rows)]\n",
        "          self._rows_count = rows\n",
        "          self._columns_count = columns\n",
        "     def set_value(self,row, column, value):\n",
        "          self._matrix[row][column] = value\n",
        "     def get_value(self,row, column):\n",
        "          return self._matrix[row][column]\n",
        "     def get_rows_count(self):\n",
        "          return self._rows_count\n",
        "     def get_columns_count(self):\n",
        "          return self._columns_count\n",
        "m = Matrix(10,10)\n",
        "for i in range(m.get_rows_count()):\n",
        "     for j in range(m.get_columns_count()):\n",
        "          m.set_value(i,j,1)\n",
        "print(m._matrix)"
      ]
    }
  ]
}